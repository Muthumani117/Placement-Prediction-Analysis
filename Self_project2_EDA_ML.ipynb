{
 "cells": [
  {
   "cell_type": "markdown",
   "id": "a65e89e5",
   "metadata": {},
   "source": [
    "# Placement Prediction Dataset\n",
    "\n",
    "# Performing EDA and Machine Learning"
   ]
  },
  {
   "cell_type": "markdown",
   "id": "edd54892",
   "metadata": {},
   "source": [
    "Predicting whether the student will be placed or not with respect to the given inputs. 3 ML algorithms are used such as Logistic Regression, Random Forest and Stochastic Gradient Descent(SGD)"
   ]
  },
  {
   "cell_type": "code",
   "execution_count": 1,
   "id": "5d7cacea",
   "metadata": {},
   "outputs": [],
   "source": [
    "# Importing libraries and required algorithms\n",
    "\n",
    "import numpy as np\n",
    "import matplotlib.pyplot as plt\n",
    "import pandas as pd\n",
    "import seaborn as sns\n",
    "\n",
    "from sklearn.preprocessing import StandardScaler\n",
    "from sklearn.metrics import accuracy_score, plot_confusion_matrix\n",
    "from sklearn.model_selection import train_test_split\n",
    "from sklearn.linear_model import LogisticRegression\n",
    "from sklearn.ensemble import RandomForestClassifier\n",
    "from sklearn.linear_model import SGDClassifier\n",
    "\n",
    "import warnings\n",
    "warnings.simplefilter(action='ignore', category=FutureWarning)\n",
    "\n",
    "sns.set_style(\"darkgrid\", {\"grid.color\": \".6\"})\n",
    "pd.set_option('display.width', 2000)\n",
    "np.set_printoptions(linewidth=2000)\n",
    "pd.set_option('display.max_columns', 20)\n"
   ]
  },
  {
   "cell_type": "markdown",
   "id": "2683892b",
   "metadata": {},
   "source": [
    "Placement Dataset is available from the following link:\n",
    "\n",
    "https://www.kaggle.com/sevdanurgenc/placement-data-full-class "
   ]
  },
  {
   "cell_type": "code",
   "execution_count": 2,
   "id": "92b8e3cb",
   "metadata": {},
   "outputs": [
    {
     "data": {
      "text/html": [
       "<div>\n",
       "<style scoped>\n",
       "    .dataframe tbody tr th:only-of-type {\n",
       "        vertical-align: middle;\n",
       "    }\n",
       "\n",
       "    .dataframe tbody tr th {\n",
       "        vertical-align: top;\n",
       "    }\n",
       "\n",
       "    .dataframe thead th {\n",
       "        text-align: right;\n",
       "    }\n",
       "</style>\n",
       "<table border=\"1\" class=\"dataframe\">\n",
       "  <thead>\n",
       "    <tr style=\"text-align: right;\">\n",
       "      <th></th>\n",
       "      <th>sl_no</th>\n",
       "      <th>gender</th>\n",
       "      <th>ssc_p</th>\n",
       "      <th>ssc_b</th>\n",
       "      <th>hsc_p</th>\n",
       "      <th>hsc_b</th>\n",
       "      <th>hsc_s</th>\n",
       "      <th>degree_p</th>\n",
       "      <th>degree_t</th>\n",
       "      <th>workex</th>\n",
       "      <th>etest_p</th>\n",
       "      <th>specialisation</th>\n",
       "      <th>mba_p</th>\n",
       "      <th>status</th>\n",
       "      <th>salary</th>\n",
       "    </tr>\n",
       "  </thead>\n",
       "  <tbody>\n",
       "    <tr>\n",
       "      <th>0</th>\n",
       "      <td>1</td>\n",
       "      <td>M</td>\n",
       "      <td>67.00</td>\n",
       "      <td>Others</td>\n",
       "      <td>91.00</td>\n",
       "      <td>Others</td>\n",
       "      <td>Commerce</td>\n",
       "      <td>58.00</td>\n",
       "      <td>Sci&amp;Tech</td>\n",
       "      <td>No</td>\n",
       "      <td>55.0</td>\n",
       "      <td>Mkt&amp;HR</td>\n",
       "      <td>58.80</td>\n",
       "      <td>Placed</td>\n",
       "      <td>270000.0</td>\n",
       "    </tr>\n",
       "    <tr>\n",
       "      <th>1</th>\n",
       "      <td>2</td>\n",
       "      <td>M</td>\n",
       "      <td>79.33</td>\n",
       "      <td>Central</td>\n",
       "      <td>78.33</td>\n",
       "      <td>Others</td>\n",
       "      <td>Science</td>\n",
       "      <td>77.48</td>\n",
       "      <td>Sci&amp;Tech</td>\n",
       "      <td>Yes</td>\n",
       "      <td>86.5</td>\n",
       "      <td>Mkt&amp;Fin</td>\n",
       "      <td>66.28</td>\n",
       "      <td>Placed</td>\n",
       "      <td>200000.0</td>\n",
       "    </tr>\n",
       "    <tr>\n",
       "      <th>2</th>\n",
       "      <td>3</td>\n",
       "      <td>M</td>\n",
       "      <td>65.00</td>\n",
       "      <td>Central</td>\n",
       "      <td>68.00</td>\n",
       "      <td>Central</td>\n",
       "      <td>Arts</td>\n",
       "      <td>64.00</td>\n",
       "      <td>Comm&amp;Mgmt</td>\n",
       "      <td>No</td>\n",
       "      <td>75.0</td>\n",
       "      <td>Mkt&amp;Fin</td>\n",
       "      <td>57.80</td>\n",
       "      <td>Placed</td>\n",
       "      <td>250000.0</td>\n",
       "    </tr>\n",
       "    <tr>\n",
       "      <th>3</th>\n",
       "      <td>4</td>\n",
       "      <td>M</td>\n",
       "      <td>56.00</td>\n",
       "      <td>Central</td>\n",
       "      <td>52.00</td>\n",
       "      <td>Central</td>\n",
       "      <td>Science</td>\n",
       "      <td>52.00</td>\n",
       "      <td>Sci&amp;Tech</td>\n",
       "      <td>No</td>\n",
       "      <td>66.0</td>\n",
       "      <td>Mkt&amp;HR</td>\n",
       "      <td>59.43</td>\n",
       "      <td>Not Placed</td>\n",
       "      <td>NaN</td>\n",
       "    </tr>\n",
       "    <tr>\n",
       "      <th>4</th>\n",
       "      <td>5</td>\n",
       "      <td>M</td>\n",
       "      <td>85.80</td>\n",
       "      <td>Central</td>\n",
       "      <td>73.60</td>\n",
       "      <td>Central</td>\n",
       "      <td>Commerce</td>\n",
       "      <td>73.30</td>\n",
       "      <td>Comm&amp;Mgmt</td>\n",
       "      <td>No</td>\n",
       "      <td>96.8</td>\n",
       "      <td>Mkt&amp;Fin</td>\n",
       "      <td>55.50</td>\n",
       "      <td>Placed</td>\n",
       "      <td>425000.0</td>\n",
       "    </tr>\n",
       "  </tbody>\n",
       "</table>\n",
       "</div>"
      ],
      "text/plain": [
       "   sl_no gender  ssc_p    ssc_b  hsc_p    hsc_b     hsc_s  degree_p   degree_t workex  etest_p specialisation  mba_p      status    salary\n",
       "0      1      M  67.00   Others  91.00   Others  Commerce     58.00   Sci&Tech     No     55.0         Mkt&HR  58.80      Placed  270000.0\n",
       "1      2      M  79.33  Central  78.33   Others   Science     77.48   Sci&Tech    Yes     86.5        Mkt&Fin  66.28      Placed  200000.0\n",
       "2      3      M  65.00  Central  68.00  Central      Arts     64.00  Comm&Mgmt     No     75.0        Mkt&Fin  57.80      Placed  250000.0\n",
       "3      4      M  56.00  Central  52.00  Central   Science     52.00   Sci&Tech     No     66.0         Mkt&HR  59.43  Not Placed       NaN\n",
       "4      5      M  85.80  Central  73.60  Central  Commerce     73.30  Comm&Mgmt     No     96.8        Mkt&Fin  55.50      Placed  425000.0"
      ]
     },
     "execution_count": 2,
     "metadata": {},
     "output_type": "execute_result"
    }
   ],
   "source": [
    "placement = pd.read_csv(\"placement_data.csv\")\n",
    "\n",
    "placement.head()"
   ]
  },
  {
   "cell_type": "code",
   "execution_count": 3,
   "id": "ddf3969c",
   "metadata": {},
   "outputs": [
    {
     "data": {
      "text/plain": [
       "(215, 15)"
      ]
     },
     "execution_count": 3,
     "metadata": {},
     "output_type": "execute_result"
    }
   ],
   "source": [
    "placement.shape"
   ]
  },
  {
   "cell_type": "markdown",
   "id": "36902521",
   "metadata": {},
   "source": [
    "There are totally 215 rows and 15 columns"
   ]
  },
  {
   "cell_type": "code",
   "execution_count": 4,
   "id": "c03aa78f",
   "metadata": {},
   "outputs": [
    {
     "name": "stdout",
     "output_type": "stream",
     "text": [
      "<class 'pandas.core.frame.DataFrame'>\n",
      "RangeIndex: 215 entries, 0 to 214\n",
      "Data columns (total 15 columns):\n",
      " #   Column          Non-Null Count  Dtype  \n",
      "---  ------          --------------  -----  \n",
      " 0   sl_no           215 non-null    int64  \n",
      " 1   gender          215 non-null    object \n",
      " 2   ssc_p           215 non-null    float64\n",
      " 3   ssc_b           215 non-null    object \n",
      " 4   hsc_p           215 non-null    float64\n",
      " 5   hsc_b           215 non-null    object \n",
      " 6   hsc_s           215 non-null    object \n",
      " 7   degree_p        215 non-null    float64\n",
      " 8   degree_t        215 non-null    object \n",
      " 9   workex          215 non-null    object \n",
      " 10  etest_p         215 non-null    float64\n",
      " 11  specialisation  215 non-null    object \n",
      " 12  mba_p           215 non-null    float64\n",
      " 13  status          215 non-null    object \n",
      " 14  salary          148 non-null    float64\n",
      "dtypes: float64(6), int64(1), object(8)\n",
      "memory usage: 25.3+ KB\n"
     ]
    }
   ],
   "source": [
    "placement.info()"
   ]
  },
  {
   "cell_type": "code",
   "execution_count": 5,
   "id": "27867e26",
   "metadata": {},
   "outputs": [
    {
     "data": {
      "text/plain": [
       "(0, 15)"
      ]
     },
     "execution_count": 5,
     "metadata": {},
     "output_type": "execute_result"
    }
   ],
   "source": [
    "# Checking for duplicate values in the dataset\n",
    "\n",
    "duplicate_df = placement[placement.duplicated()]\n",
    "duplicate_df.shape"
   ]
  },
  {
   "cell_type": "code",
   "execution_count": 6,
   "id": "cade3111",
   "metadata": {},
   "outputs": [
    {
     "data": {
      "text/plain": [
       "sl_no              0\n",
       "gender             0\n",
       "ssc_p              0\n",
       "ssc_b              0\n",
       "hsc_p              0\n",
       "hsc_b              0\n",
       "hsc_s              0\n",
       "degree_p           0\n",
       "degree_t           0\n",
       "workex             0\n",
       "etest_p            0\n",
       "specialisation     0\n",
       "mba_p              0\n",
       "status             0\n",
       "salary            67\n",
       "dtype: int64"
      ]
     },
     "execution_count": 6,
     "metadata": {},
     "output_type": "execute_result"
    }
   ],
   "source": [
    "# Checking any null values\n",
    "\n",
    "placement.isnull().sum()"
   ]
  },
  {
   "cell_type": "markdown",
   "id": "81a6dbff",
   "metadata": {},
   "source": [
    "\n",
    "There is totally 67 empty rows for salary column. Now we are checking how many people have not been placed.\n"
   ]
  },
  {
   "cell_type": "code",
   "execution_count": 7,
   "id": "1c42b1f6",
   "metadata": {},
   "outputs": [
    {
     "data": {
      "text/html": [
       "<div>\n",
       "<style scoped>\n",
       "    .dataframe tbody tr th:only-of-type {\n",
       "        vertical-align: middle;\n",
       "    }\n",
       "\n",
       "    .dataframe tbody tr th {\n",
       "        vertical-align: top;\n",
       "    }\n",
       "\n",
       "    .dataframe thead th {\n",
       "        text-align: right;\n",
       "    }\n",
       "</style>\n",
       "<table border=\"1\" class=\"dataframe\">\n",
       "  <thead>\n",
       "    <tr style=\"text-align: right;\">\n",
       "      <th></th>\n",
       "      <th>sl_no</th>\n",
       "      <th>gender</th>\n",
       "      <th>ssc_p</th>\n",
       "      <th>ssc_b</th>\n",
       "      <th>hsc_p</th>\n",
       "      <th>hsc_b</th>\n",
       "      <th>hsc_s</th>\n",
       "      <th>degree_p</th>\n",
       "      <th>degree_t</th>\n",
       "      <th>workex</th>\n",
       "      <th>etest_p</th>\n",
       "      <th>specialisation</th>\n",
       "      <th>mba_p</th>\n",
       "      <th>status</th>\n",
       "      <th>salary</th>\n",
       "    </tr>\n",
       "  </thead>\n",
       "  <tbody>\n",
       "    <tr>\n",
       "      <th>3</th>\n",
       "      <td>4</td>\n",
       "      <td>M</td>\n",
       "      <td>56.0</td>\n",
       "      <td>Central</td>\n",
       "      <td>52.0</td>\n",
       "      <td>Central</td>\n",
       "      <td>Science</td>\n",
       "      <td>52.00</td>\n",
       "      <td>Sci&amp;Tech</td>\n",
       "      <td>No</td>\n",
       "      <td>66.00</td>\n",
       "      <td>Mkt&amp;HR</td>\n",
       "      <td>59.43</td>\n",
       "      <td>Not Placed</td>\n",
       "      <td>NaN</td>\n",
       "    </tr>\n",
       "    <tr>\n",
       "      <th>5</th>\n",
       "      <td>6</td>\n",
       "      <td>M</td>\n",
       "      <td>55.0</td>\n",
       "      <td>Others</td>\n",
       "      <td>49.8</td>\n",
       "      <td>Others</td>\n",
       "      <td>Science</td>\n",
       "      <td>67.25</td>\n",
       "      <td>Sci&amp;Tech</td>\n",
       "      <td>Yes</td>\n",
       "      <td>55.00</td>\n",
       "      <td>Mkt&amp;Fin</td>\n",
       "      <td>51.58</td>\n",
       "      <td>Not Placed</td>\n",
       "      <td>NaN</td>\n",
       "    </tr>\n",
       "    <tr>\n",
       "      <th>6</th>\n",
       "      <td>7</td>\n",
       "      <td>F</td>\n",
       "      <td>46.0</td>\n",
       "      <td>Others</td>\n",
       "      <td>49.2</td>\n",
       "      <td>Others</td>\n",
       "      <td>Commerce</td>\n",
       "      <td>79.00</td>\n",
       "      <td>Comm&amp;Mgmt</td>\n",
       "      <td>No</td>\n",
       "      <td>74.28</td>\n",
       "      <td>Mkt&amp;Fin</td>\n",
       "      <td>53.29</td>\n",
       "      <td>Not Placed</td>\n",
       "      <td>NaN</td>\n",
       "    </tr>\n",
       "    <tr>\n",
       "      <th>9</th>\n",
       "      <td>10</td>\n",
       "      <td>M</td>\n",
       "      <td>58.0</td>\n",
       "      <td>Central</td>\n",
       "      <td>70.0</td>\n",
       "      <td>Central</td>\n",
       "      <td>Commerce</td>\n",
       "      <td>61.00</td>\n",
       "      <td>Comm&amp;Mgmt</td>\n",
       "      <td>No</td>\n",
       "      <td>54.00</td>\n",
       "      <td>Mkt&amp;Fin</td>\n",
       "      <td>52.21</td>\n",
       "      <td>Not Placed</td>\n",
       "      <td>NaN</td>\n",
       "    </tr>\n",
       "    <tr>\n",
       "      <th>12</th>\n",
       "      <td>13</td>\n",
       "      <td>F</td>\n",
       "      <td>47.0</td>\n",
       "      <td>Central</td>\n",
       "      <td>55.0</td>\n",
       "      <td>Others</td>\n",
       "      <td>Science</td>\n",
       "      <td>65.00</td>\n",
       "      <td>Comm&amp;Mgmt</td>\n",
       "      <td>No</td>\n",
       "      <td>62.00</td>\n",
       "      <td>Mkt&amp;HR</td>\n",
       "      <td>65.04</td>\n",
       "      <td>Not Placed</td>\n",
       "      <td>NaN</td>\n",
       "    </tr>\n",
       "  </tbody>\n",
       "</table>\n",
       "</div>"
      ],
      "text/plain": [
       "    sl_no gender  ssc_p    ssc_b  hsc_p    hsc_b     hsc_s  degree_p   degree_t workex  etest_p specialisation  mba_p      status  salary\n",
       "3       4      M   56.0  Central   52.0  Central   Science     52.00   Sci&Tech     No    66.00         Mkt&HR  59.43  Not Placed     NaN\n",
       "5       6      M   55.0   Others   49.8   Others   Science     67.25   Sci&Tech    Yes    55.00        Mkt&Fin  51.58  Not Placed     NaN\n",
       "6       7      F   46.0   Others   49.2   Others  Commerce     79.00  Comm&Mgmt     No    74.28        Mkt&Fin  53.29  Not Placed     NaN\n",
       "9      10      M   58.0  Central   70.0  Central  Commerce     61.00  Comm&Mgmt     No    54.00        Mkt&Fin  52.21  Not Placed     NaN\n",
       "12     13      F   47.0  Central   55.0   Others   Science     65.00  Comm&Mgmt     No    62.00         Mkt&HR  65.04  Not Placed     NaN"
      ]
     },
     "execution_count": 7,
     "metadata": {},
     "output_type": "execute_result"
    }
   ],
   "source": [
    "# grouping data according to status\n",
    "group = placement.groupby('status')\n",
    "group1 = group.get_group('Placed')\n",
    "group2 = group.get_group('Not Placed')\n",
    "group2.head(5)"
   ]
  },
  {
   "cell_type": "code",
   "execution_count": 8,
   "id": "ba38cbc5",
   "metadata": {},
   "outputs": [
    {
     "data": {
      "text/plain": [
       "(67, 15)"
      ]
     },
     "execution_count": 8,
     "metadata": {},
     "output_type": "execute_result"
    }
   ],
   "source": [
    "group2.shape"
   ]
  },
  {
   "cell_type": "markdown",
   "id": "c5605932",
   "metadata": {},
   "source": [
    "Here there are 67 peoples who have not yet placed. So those who have not placed dont have salary also.\n",
    "Therefore we are not going to fill the empty values for salary. Just going to leave it as it is.\n"
   ]
  },
  {
   "cell_type": "code",
   "execution_count": 9,
   "id": "24185e54",
   "metadata": {},
   "outputs": [
    {
     "data": {
      "text/plain": [
       "Text(0.5, 1.0, 'Outliers Variable Distribution')"
      ]
     },
     "execution_count": 9,
     "metadata": {},
     "output_type": "execute_result"
    },
    {
     "data": {
      "image/png": "[encoded data removed]",
      "text/plain": [
       "<Figure size 432x288 with 1 Axes>"
      ]
     },
     "metadata": {},
     "output_type": "display_data"
    }
   ],
   "source": [
    "# Checking for outliers in the dataset\n",
    "\n",
    "attribute = ['ssc_p', 'hsc_p', 'degree_p', 'etest_p', 'mba_p']\n",
    "sns.boxplot(data=placement[attribute], orient=\"v\", palette=\"Set2\" ,whis=1.5,saturation=1, width=0.7)\n",
    "plt.title(\"Outliers Variable Distribution\", fontsize = 12, fontweight = 'bold')\n"
   ]
  },
  {
   "cell_type": "markdown",
   "id": "01adeb02",
   "metadata": {},
   "source": [
    "\n",
    "We could see few outliers in hsc_p column. We are going to remove those few too.\n"
   ]
  },
  {
   "cell_type": "code",
   "execution_count": 10,
   "id": "e30505bd",
   "metadata": {},
   "outputs": [],
   "source": [
    "# Removing outliers in hsc_p\n",
    "\n",
    "Q1 = placement.hsc_p.quantile(0.25)\n",
    "Q3 = placement.hsc_p.quantile(0.75)\n",
    "IQR = Q3 - Q1\n",
    "placement = placement[(placement.hsc_p >= Q1 - 1.5*IQR) & (placement.hsc_p <= Q3 + 1.5*IQR)]"
   ]
  },
  {
   "cell_type": "code",
   "execution_count": 11,
   "id": "b1a6f4e4",
   "metadata": {},
   "outputs": [
    {
     "data": {
      "text/plain": [
       "Text(0.5, 1.0, 'After removing outliers')"
      ]
     },
     "execution_count": 11,
     "metadata": {},
     "output_type": "execute_result"
    },
    {
     "data": {
      "image/png": "[encoded data removed]",
      "text/plain": [
       "<Figure size 432x288 with 1 Axes>"
      ]
     },
     "metadata": {},
     "output_type": "display_data"
    }
   ],
   "source": [
    "sns.boxplot(data=placement[attribute], orient=\"v\", palette=\"Set2\" ,whis=1.5,saturation=1, width=0.7)\n",
    "plt.title(\"After removing outliers\", fontsize = 12, fontweight = 'bold')\n"
   ]
  },
  {
   "cell_type": "code",
   "execution_count": 12,
   "id": "d53a7a90",
   "metadata": {},
   "outputs": [
    {
     "data": {
      "text/plain": [
       "(207, 15)"
      ]
     },
     "execution_count": 12,
     "metadata": {},
     "output_type": "execute_result"
    }
   ],
   "source": [
    "placement.shape"
   ]
  },
  {
   "cell_type": "markdown",
   "id": "8c108593",
   "metadata": {},
   "source": [
    "8 rows have been removed as outliers and remaining 207 rows we have now."
   ]
  },
  {
   "cell_type": "markdown",
   "id": "75af0361",
   "metadata": {},
   "source": [
    "# Some Graphical Visualizations\n",
    "# CountPlot"
   ]
  },
  {
   "cell_type": "code",
   "execution_count": 13,
   "id": "91015286",
   "metadata": {},
   "outputs": [
    {
     "data": {
      "text/plain": [
       "gender  status    \n",
       "F       Not Placed    27\n",
       "        Placed        46\n",
       "M       Not Placed    35\n",
       "        Placed        99\n",
       "Name: sl_no, dtype: int64"
      ]
     },
     "execution_count": 13,
     "metadata": {},
     "output_type": "execute_result"
    }
   ],
   "source": [
    "# Number of Male and female placed and not placed\n",
    "\n",
    "placement.groupby(['gender','status']).count()['sl_no']"
   ]
  },
  {
   "cell_type": "code",
   "execution_count": 14,
   "id": "4dcf9a14",
   "metadata": {},
   "outputs": [
    {
     "data": {
      "text/plain": [
       "<AxesSubplot:xlabel='gender', ylabel='count'>"
      ]
     },
     "execution_count": 14,
     "metadata": {},
     "output_type": "execute_result"
    },
    {
     "data": {
      "image/png": "[encoded data removed]",
      "text/plain": [
       "<Figure size 432x288 with 1 Axes>"
      ]
     },
     "metadata": {},
     "output_type": "display_data"
    }
   ],
   "source": [
    "sns.countplot(data=placement, x='gender', hue='status')"
   ]
  },
  {
   "cell_type": "markdown",
   "id": "03e36e32",
   "metadata": {},
   "source": [
    "# CatPlot"
   ]
  },
  {
   "cell_type": "code",
   "execution_count": 15,
   "id": "0b77066f",
   "metadata": {},
   "outputs": [
    {
     "data": {
      "image/png": "[encoded data removed]",
      "text/plain": [
       "<Figure size 720x360 with 1 Axes>"
      ]
     },
     "metadata": {},
     "output_type": "display_data"
    }
   ],
   "source": [
    "# Count of students in different degree's\n",
    "\n",
    "with sns.axes_style('white'):\n",
    "    degree = sns.catplot(\"degree_t\", data=placement, aspect=2,\n",
    "                       kind=\"count\")\n",
    "    degree.set_axis_labels(\"Degree\", \"Total Count\");"
   ]
  },
  {
   "cell_type": "markdown",
   "id": "cbcb65cd",
   "metadata": {},
   "source": [
    "# Donut Graph"
   ]
  },
  {
   "cell_type": "code",
   "execution_count": 16,
   "id": "c7e9f960",
   "metadata": {},
   "outputs": [
    {
     "data": {
      "image/png": "[encoded data removed]",
      "text/plain": [
       "<Figure size 432x288 with 1 Axes>"
      ]
     },
     "metadata": {},
     "output_type": "display_data"
    }
   ],
   "source": [
    "data = placement.groupby('hsc_s').sum()['sl_no']\n",
    "labels = placement['hsc_s'].unique()\n",
    "\n",
    "# Create a circle at the center of the plot\n",
    "my_circle = plt.Circle( (0,0), 0.7, color='white')\n",
    "\n",
    "# Give color names\n",
    "plt.pie(data, labels=labels, colors=['red','green','blue'], autopct='%.0f%%')\n",
    "p = plt.gcf()\n",
    "p.gca().add_artist(my_circle)\n",
    "plt.title('Higher secondary departments - student %')\n",
    "\n",
    "# Show the graph\n",
    "plt.show()"
   ]
  },
  {
   "cell_type": "markdown",
   "id": "a056e5e4",
   "metadata": {},
   "source": [
    "# Heat Map"
   ]
  },
  {
   "cell_type": "code",
   "execution_count": 17,
   "id": "83c22c82",
   "metadata": {},
   "outputs": [
    {
     "data": {
      "text/plain": [
       "<AxesSubplot:>"
      ]
     },
     "execution_count": 17,
     "metadata": {},
     "output_type": "execute_result"
    },
    {
     "data": {
      "image/png": "[encoded data removed]",
      "text/plain": [
       "<Figure size 864x720 with 2 Axes>"
      ]
     },
     "metadata": {},
     "output_type": "display_data"
    }
   ],
   "source": [
    "# Identifying correlation among the features\n",
    "plt.figure(figsize=(12,10))\n",
    "corr = placement.corr()\n",
    "sns.heatmap(corr, annot = True)"
   ]
  },
  {
   "cell_type": "markdown",
   "id": "03449de9",
   "metadata": {},
   "source": [
    "There is no correlation between them"
   ]
  },
  {
   "cell_type": "markdown",
   "id": "0acd34cf",
   "metadata": {},
   "source": [
    "# Convert categorized values to numerical values"
   ]
  },
  {
   "cell_type": "code",
   "execution_count": 18,
   "id": "907e42c4",
   "metadata": {},
   "outputs": [
    {
     "name": "stderr",
     "output_type": "stream",
     "text": [
      "/Users/mani/opt/anaconda3/lib/python3.9/site-packages/pandas/core/generic.py:6619: SettingWithCopyWarning: \n",
      "A value is trying to be set on a copy of a slice from a DataFrame\n",
      "\n",
      "See the caveats in the documentation: https://pandas.pydata.org/pandas-docs/stable/user_guide/indexing.html#returning-a-view-versus-a-copy\n",
      "  return self._update_inplace(result)\n"
     ]
    },
    {
     "data": {
      "text/html": [
       "<div>\n",
       "<style scoped>\n",
       "    .dataframe tbody tr th:only-of-type {\n",
       "        vertical-align: middle;\n",
       "    }\n",
       "\n",
       "    .dataframe tbody tr th {\n",
       "        vertical-align: top;\n",
       "    }\n",
       "\n",
       "    .dataframe thead th {\n",
       "        text-align: right;\n",
       "    }\n",
       "</style>\n",
       "<table border=\"1\" class=\"dataframe\">\n",
       "  <thead>\n",
       "    <tr style=\"text-align: right;\">\n",
       "      <th></th>\n",
       "      <th>sl_no</th>\n",
       "      <th>gender</th>\n",
       "      <th>ssc_p</th>\n",
       "      <th>ssc_b</th>\n",
       "      <th>hsc_p</th>\n",
       "      <th>hsc_b</th>\n",
       "      <th>hsc_s</th>\n",
       "      <th>degree_p</th>\n",
       "      <th>degree_t</th>\n",
       "      <th>workex</th>\n",
       "      <th>etest_p</th>\n",
       "      <th>specialisation</th>\n",
       "      <th>mba_p</th>\n",
       "      <th>status</th>\n",
       "      <th>salary</th>\n",
       "    </tr>\n",
       "  </thead>\n",
       "  <tbody>\n",
       "    <tr>\n",
       "      <th>0</th>\n",
       "      <td>1</td>\n",
       "      <td>1</td>\n",
       "      <td>67.00</td>\n",
       "      <td>0</td>\n",
       "      <td>91.00</td>\n",
       "      <td>0</td>\n",
       "      <td>Commerce</td>\n",
       "      <td>58.00</td>\n",
       "      <td>Sci&amp;Tech</td>\n",
       "      <td>0</td>\n",
       "      <td>55.0</td>\n",
       "      <td>0</td>\n",
       "      <td>58.80</td>\n",
       "      <td>1</td>\n",
       "      <td>270000.0</td>\n",
       "    </tr>\n",
       "    <tr>\n",
       "      <th>1</th>\n",
       "      <td>2</td>\n",
       "      <td>1</td>\n",
       "      <td>79.33</td>\n",
       "      <td>1</td>\n",
       "      <td>78.33</td>\n",
       "      <td>0</td>\n",
       "      <td>Science</td>\n",
       "      <td>77.48</td>\n",
       "      <td>Sci&amp;Tech</td>\n",
       "      <td>1</td>\n",
       "      <td>86.5</td>\n",
       "      <td>1</td>\n",
       "      <td>66.28</td>\n",
       "      <td>1</td>\n",
       "      <td>200000.0</td>\n",
       "    </tr>\n",
       "  </tbody>\n",
       "</table>\n",
       "</div>"
      ],
      "text/plain": [
       "   sl_no  gender  ssc_p  ssc_b  hsc_p  hsc_b     hsc_s  degree_p  degree_t  workex  etest_p  specialisation  mba_p  status    salary\n",
       "0      1       1  67.00      0  91.00      0  Commerce     58.00  Sci&Tech       0     55.0               0  58.80       1  270000.0\n",
       "1      2       1  79.33      1  78.33      0   Science     77.48  Sci&Tech       1     86.5               1  66.28       1  200000.0"
      ]
     },
     "execution_count": 18,
     "metadata": {},
     "output_type": "execute_result"
    }
   ],
   "source": [
    "placement['gender'].replace({'M':1, 'F':0}, inplace=True)                \n",
    "placement['ssc_b'].replace({'Central':1, 'Others':0}, inplace=True)\n",
    "placement['hsc_b'].replace({'Central':1, 'Others':0}, inplace=True)\n",
    "placement['workex'].replace({'Yes':1, 'No':0}, inplace=True)\n",
    "placement['specialisation'].replace({'Mkt&Fin':1, 'Mkt&HR':0}, inplace=True)\n",
    "placement['status'].replace({'Placed':1, 'Not Placed':0}, inplace=True)\n",
    "\n",
    "placement.head(2)"
   ]
  },
  {
   "cell_type": "code",
   "execution_count": 19,
   "id": "fc0d2e19",
   "metadata": {},
   "outputs": [
    {
     "name": "stderr",
     "output_type": "stream",
     "text": [
      "/Users/mani/opt/anaconda3/lib/python3.9/site-packages/pandas/core/frame.py:4906: SettingWithCopyWarning: \n",
      "A value is trying to be set on a copy of a slice from a DataFrame\n",
      "\n",
      "See the caveats in the documentation: https://pandas.pydata.org/pandas-docs/stable/user_guide/indexing.html#returning-a-view-versus-a-copy\n",
      "  return super().drop(\n"
     ]
    },
    {
     "data": {
      "text/html": [
       "<div>\n",
       "<style scoped>\n",
       "    .dataframe tbody tr th:only-of-type {\n",
       "        vertical-align: middle;\n",
       "    }\n",
       "\n",
       "    .dataframe tbody tr th {\n",
       "        vertical-align: top;\n",
       "    }\n",
       "\n",
       "    .dataframe thead th {\n",
       "        text-align: right;\n",
       "    }\n",
       "</style>\n",
       "<table border=\"1\" class=\"dataframe\">\n",
       "  <thead>\n",
       "    <tr style=\"text-align: right;\">\n",
       "      <th></th>\n",
       "      <th>sl_no</th>\n",
       "      <th>gender</th>\n",
       "      <th>ssc_p</th>\n",
       "      <th>ssc_b</th>\n",
       "      <th>hsc_p</th>\n",
       "      <th>hsc_b</th>\n",
       "      <th>degree_p</th>\n",
       "      <th>workex</th>\n",
       "      <th>etest_p</th>\n",
       "      <th>specialisation</th>\n",
       "      <th>mba_p</th>\n",
       "      <th>status</th>\n",
       "      <th>salary</th>\n",
       "      <th>hsc_s_Arts</th>\n",
       "      <th>hsc_s_Commerce</th>\n",
       "      <th>hsc_s_Science</th>\n",
       "      <th>degree_t_Comm&amp;Mgmt</th>\n",
       "      <th>degree_t_Others</th>\n",
       "      <th>degree_t_Sci&amp;Tech</th>\n",
       "    </tr>\n",
       "  </thead>\n",
       "  <tbody>\n",
       "    <tr>\n",
       "      <th>0</th>\n",
       "      <td>1</td>\n",
       "      <td>1</td>\n",
       "      <td>67.00</td>\n",
       "      <td>0</td>\n",
       "      <td>91.00</td>\n",
       "      <td>0</td>\n",
       "      <td>58.00</td>\n",
       "      <td>0</td>\n",
       "      <td>55.0</td>\n",
       "      <td>0</td>\n",
       "      <td>58.80</td>\n",
       "      <td>1</td>\n",
       "      <td>270000.0</td>\n",
       "      <td>0</td>\n",
       "      <td>1</td>\n",
       "      <td>0</td>\n",
       "      <td>0</td>\n",
       "      <td>0</td>\n",
       "      <td>1</td>\n",
       "    </tr>\n",
       "    <tr>\n",
       "      <th>1</th>\n",
       "      <td>2</td>\n",
       "      <td>1</td>\n",
       "      <td>79.33</td>\n",
       "      <td>1</td>\n",
       "      <td>78.33</td>\n",
       "      <td>0</td>\n",
       "      <td>77.48</td>\n",
       "      <td>1</td>\n",
       "      <td>86.5</td>\n",
       "      <td>1</td>\n",
       "      <td>66.28</td>\n",
       "      <td>1</td>\n",
       "      <td>200000.0</td>\n",
       "      <td>0</td>\n",
       "      <td>0</td>\n",
       "      <td>1</td>\n",
       "      <td>0</td>\n",
       "      <td>0</td>\n",
       "      <td>1</td>\n",
       "    </tr>\n",
       "    <tr>\n",
       "      <th>2</th>\n",
       "      <td>3</td>\n",
       "      <td>1</td>\n",
       "      <td>65.00</td>\n",
       "      <td>1</td>\n",
       "      <td>68.00</td>\n",
       "      <td>1</td>\n",
       "      <td>64.00</td>\n",
       "      <td>0</td>\n",
       "      <td>75.0</td>\n",
       "      <td>1</td>\n",
       "      <td>57.80</td>\n",
       "      <td>1</td>\n",
       "      <td>250000.0</td>\n",
       "      <td>1</td>\n",
       "      <td>0</td>\n",
       "      <td>0</td>\n",
       "      <td>1</td>\n",
       "      <td>0</td>\n",
       "      <td>0</td>\n",
       "    </tr>\n",
       "    <tr>\n",
       "      <th>3</th>\n",
       "      <td>4</td>\n",
       "      <td>1</td>\n",
       "      <td>56.00</td>\n",
       "      <td>1</td>\n",
       "      <td>52.00</td>\n",
       "      <td>1</td>\n",
       "      <td>52.00</td>\n",
       "      <td>0</td>\n",
       "      <td>66.0</td>\n",
       "      <td>0</td>\n",
       "      <td>59.43</td>\n",
       "      <td>0</td>\n",
       "      <td>NaN</td>\n",
       "      <td>0</td>\n",
       "      <td>0</td>\n",
       "      <td>1</td>\n",
       "      <td>0</td>\n",
       "      <td>0</td>\n",
       "      <td>1</td>\n",
       "    </tr>\n",
       "    <tr>\n",
       "      <th>4</th>\n",
       "      <td>5</td>\n",
       "      <td>1</td>\n",
       "      <td>85.80</td>\n",
       "      <td>1</td>\n",
       "      <td>73.60</td>\n",
       "      <td>1</td>\n",
       "      <td>73.30</td>\n",
       "      <td>0</td>\n",
       "      <td>96.8</td>\n",
       "      <td>1</td>\n",
       "      <td>55.50</td>\n",
       "      <td>1</td>\n",
       "      <td>425000.0</td>\n",
       "      <td>0</td>\n",
       "      <td>1</td>\n",
       "      <td>0</td>\n",
       "      <td>1</td>\n",
       "      <td>0</td>\n",
       "      <td>0</td>\n",
       "    </tr>\n",
       "  </tbody>\n",
       "</table>\n",
       "</div>"
      ],
      "text/plain": [
       "   sl_no  gender  ssc_p  ssc_b  hsc_p  hsc_b  degree_p  workex  etest_p  specialisation  mba_p  status    salary  hsc_s_Arts  hsc_s_Commerce  hsc_s_Science  degree_t_Comm&Mgmt  degree_t_Others  degree_t_Sci&Tech\n",
       "0      1       1  67.00      0  91.00      0     58.00       0     55.0               0  58.80       1  270000.0           0               1              0                   0                0                  1\n",
       "1      2       1  79.33      1  78.33      0     77.48       1     86.5               1  66.28       1  200000.0           0               0              1                   0                0                  1\n",
       "2      3       1  65.00      1  68.00      1     64.00       0     75.0               1  57.80       1  250000.0           1               0              0                   1                0                  0\n",
       "3      4       1  56.00      1  52.00      1     52.00       0     66.0               0  59.43       0       NaN           0               0              1                   0                0                  1\n",
       "4      5       1  85.80      1  73.60      1     73.30       0     96.8               1  55.50       1  425000.0           0               1              0                   1                0                  0"
      ]
     },
     "execution_count": 19,
     "metadata": {},
     "output_type": "execute_result"
    }
   ],
   "source": [
    "cat_cols=placement.select_dtypes('object')\n",
    "\n",
    "cat_col_encode = pd.get_dummies(cat_cols)\n",
    "\n",
    "# drop categorical columns\n",
    "placement.drop(columns=cat_cols, axis=1, inplace=True)\n",
    "\n",
    "# combine new columns with original data\n",
    "placement = pd.concat([placement, cat_col_encode], axis=1)\n",
    "placement.head(5)"
   ]
  },
  {
   "cell_type": "code",
   "execution_count": 20,
   "id": "9ae79323",
   "metadata": {},
   "outputs": [],
   "source": [
    "X=placement.drop([\"sl_no\", \"status\", \"salary\"],axis=1)\n",
    "y=placement[\"status\"]"
   ]
  },
  {
   "cell_type": "markdown",
   "id": "0bbdb5ed",
   "metadata": {},
   "source": [
    "# Scaling the data"
   ]
  },
  {
   "cell_type": "code",
   "execution_count": 21,
   "id": "6b47331b",
   "metadata": {},
   "outputs": [],
   "source": [
    "scale = StandardScaler()\n",
    "scaled_df = scale.fit_transform(X)\n",
    "scaled_data = pd.DataFrame(scaled_df, columns=X.columns)\n",
    "scaled_X = scaled_data"
   ]
  },
  {
   "cell_type": "markdown",
   "id": "a55ed47e",
   "metadata": {},
   "source": [
    "# Splitting the dataset for training and testing"
   ]
  },
  {
   "cell_type": "code",
   "execution_count": 22,
   "id": "ba8d6b85",
   "metadata": {},
   "outputs": [],
   "source": [
    "X_train, X_test, y_train, y_test = train_test_split(scaled_X, y, test_size = 0.2, random_state = 42)\n"
   ]
  },
  {
   "cell_type": "markdown",
   "id": "7aa44ac3",
   "metadata": {},
   "source": [
    "# Logistic Regression"
   ]
  },
  {
   "cell_type": "markdown",
   "id": "59750d58",
   "metadata": {},
   "source": [
    "Algorithm to use in the optimization problem.\n",
    "\n",
    "There are 5 types of solver that can be used \n",
    "    ---> ‘newton-cg’, ‘lbfgs’, ‘liblinear’, ‘sag’, ‘saga’;\n",
    "    \n",
    "    Default used is 'lbfgs’\n",
    "\n",
    "To choose a solver, we consider the following aspects:\n",
    "\n",
    "For small datasets, ‘liblinear’ is a good choice, whereas ‘sag’ and ‘saga’ are faster for large ones;\n",
    "For multiclass problems, only ‘newton-cg’, ‘sag’, ‘saga’ and ‘lbfgs’ handle multinomial loss;\n",
    "‘liblinear’ is limited to one-versus-rest schemes.\n",
    "\n",
    "We have only small dataset so we go with liblinear solver."
   ]
  },
  {
   "cell_type": "code",
   "execution_count": 23,
   "id": "cef108a6",
   "metadata": {},
   "outputs": [
    {
     "name": "stdout",
     "output_type": "stream",
     "text": [
      "Training Accuracy Score is 87.88%\n",
      "\n",
      " Testing Accuracy Score is 85.71%\n"
     ]
    }
   ],
   "source": [
    "log_model = LogisticRegression(solver='liblinear', random_state = 0)\n",
    "log_model.fit(X_train, y_train)\n",
    "training_predictions = log_model.predict(X_train)\n",
    "testing_predictions = log_model.predict(X_test)\n",
    "\n",
    "training_score = accuracy_score(y_train, training_predictions)\n",
    "testing_score = accuracy_score(y_test, testing_predictions)\n",
    "\n",
    "print(f'Training Accuracy Score is ' + '{:.2f}'.format(training_score*100) + '%\\n\\n Testing Accuracy Score is ' + '{:.2f}'.format(testing_score*100) + '%')"
   ]
  },
  {
   "cell_type": "markdown",
   "id": "9d5d3097",
   "metadata": {},
   "source": [
    "# Stochastic Gradient Descent "
   ]
  },
  {
   "cell_type": "markdown",
   "id": "962d7e7a",
   "metadata": {},
   "source": [
    "Mostly used when there is large datasets. Now we are using just for learning\n",
    "There are many possible options for loss parameters:\n",
    "    ---> ‘hinge’, ‘log’, ‘modified_huber’, ‘squared_hinge’, ‘perceptron’ ;\n",
    "    \n",
    "    Default one is 'hinge'\n",
    "    \n",
    "The ‘log’ loss gives logistic regression.\n",
    "The ‘modified_huber’ is another smooth loss that brings tolerance to outliers as well as probability estimates. ‘squared_hinge’ is like hinge but is quadratically penalized. \n",
    "‘perceptron’ is the linear loss used by the perceptron algorithm."
   ]
  },
  {
   "cell_type": "code",
   "execution_count": 24,
   "id": "d535ed16",
   "metadata": {},
   "outputs": [
    {
     "name": "stdout",
     "output_type": "stream",
     "text": [
      "Training Accuracy Score is 89.09%\n",
      "\n",
      " Testing Accuracy Score is 80.95%\n"
     ]
    }
   ],
   "source": [
    "sgd_model = SGDClassifier(loss='modified_huber', shuffle = True, random_state=101)\n",
    "sgd_model.fit(X_train, y_train)\n",
    "training_predictions = sgd_model.predict(X_train)\n",
    "testing_predictions = sgd_model.predict(X_test)\n",
    "\n",
    "training_score = accuracy_score(y_train, training_predictions)\n",
    "testing_score = accuracy_score(y_test, testing_predictions)\n",
    "\n",
    "print(f'Training Accuracy Score is ' + '{:.2f}'.format(training_score*100) + '%\\n\\n Testing Accuracy Score is ' + '{:.2f}'.format(testing_score*100) + '%')"
   ]
  },
  {
   "cell_type": "markdown",
   "id": "0a1a6014",
   "metadata": {},
   "source": [
    "# Random Forest Classifier"
   ]
  },
  {
   "cell_type": "code",
   "execution_count": 25,
   "id": "b6f18a2f",
   "metadata": {},
   "outputs": [
    {
     "name": "stdout",
     "output_type": "stream",
     "text": [
      "Training Accuracy Score is 90.91%\n",
      "\n",
      " Testing Accuracy Score is 83.33%\n"
     ]
    }
   ],
   "source": [
    "rand_model = RandomForestClassifier(n_estimators=100, max_depth=4, random_state=453)\n",
    "rand_model.fit(X_train, y_train)\n",
    "training_predictions = rand_model.predict(X_train)\n",
    "testing_predictions = rand_model.predict(X_test)\n",
    "\n",
    "training_score = accuracy_score(y_train, training_predictions)\n",
    "testing_score = accuracy_score(y_test, testing_predictions)\n",
    "\n",
    "print(f'Training Accuracy Score is ' + '{:.2f}'.format(training_score*100) + '%\\n\\n Testing Accuracy Score is ' + '{:.2f}'.format(testing_score*100) + '%')"
   ]
  },
  {
   "cell_type": "markdown",
   "id": "487aa531",
   "metadata": {},
   "source": [
    "\n",
    "We can see that Random Forest is giving more accuracy compared to others.\n",
    "We are plotting the confusion matrix of that model"
   ]
  },
  {
   "cell_type": "code",
   "execution_count": 26,
   "id": "611cf31d",
   "metadata": {},
   "outputs": [
    {
     "data": {
      "image/png": "[encoded data removed]",
      "text/plain": [
       "<Figure size 432x288 with 2 Axes>"
      ]
     },
     "metadata": {},
     "output_type": "display_data"
    }
   ],
   "source": [
    "#Confusion_matrix of random forest classifier\n",
    "\n",
    "plot_confusion_matrix(rand_model,\n",
    "                      X_test, y_test,\n",
    "                      cmap = plt.cm.Blues,\n",
    "                      display_labels = ['Not Placed', 'Placed'])\n",
    "plt.grid(False)\n",
    "plt.show();"
   ]
  },
  {
   "cell_type": "code",
   "execution_count": null,
   "id": "b467699b",
   "metadata": {},
   "outputs": [],
   "source": []
  }
 ],
 "metadata": {
  "kernelspec": {
   "display_name": "Python 3 (ipykernel)",
   "language": "python",
   "name": "python3"
  },
  "language_info": {
   "codemirror_mode": {
    "name": "ipython",
    "version": 3
   },
   "file_extension": ".py",
   "mimetype": "text/x-python",
   "name": "python",
   "nbconvert_exporter": "python",
   "pygments_lexer": "ipython3",
   "version": "3.9.7"
  }
 },
 "nbformat": 4,
 "nbformat_minor": 5
}
